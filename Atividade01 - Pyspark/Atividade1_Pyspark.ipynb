{
 "cells": [
  {
   "cell_type": "markdown",
   "metadata": {
    "application/vnd.databricks.v1+cell": {
     "cellMetadata": {},
     "inputWidgets": {},
     "nuid": "53520d48-d1c0-47ab-9e47-93cc6cb3634d",
     "showTitle": false,
     "tableResultSettingsMap": {},
     "title": ""
    },
    "id": "_t-b8HQXI7UU"
   },
   "source": [
    "# <center>Rocket Lab Dados - 2025.2</center>\n",
    "# <center> Introdução à Pyspark</center>\n",
    "___\n",
    "Todo o conteúdo que você terá acesso ao longo desse período é confidencial, não sendo possível compartilhar ou comercializar os links ou os materiais recebidos que sejam de propriedade do Programa Rocket Lab da V(dev)\n",
    "\n",
    "Dessa forma, ao participar do curso você está aceitando os termos de confidencialidade e não-comercialização dos conteúdos que serão recebidos.\n",
    "___\n",
    "\n",
    "# <center> Objetivos de aprendizado </center>\n",
    "- Familiarizar-se com as funcionalidades básicas do PySpark\n",
    "- Ser capaz de carregar dados em um DataFrame\n",
    "- Ser capaz de realizar manipulações básicas de dados\n",
    "___\n"
   ]
  },
  {
   "cell_type": "markdown",
   "metadata": {
    "application/vnd.databricks.v1+cell": {
     "cellMetadata": {},
     "inputWidgets": {},
     "nuid": "f96c5e05-110b-4f6e-8c1c-c73531746d80",
     "showTitle": false,
     "tableResultSettingsMap": {},
     "title": ""
    },
    "id": "MOgvn0beI7W7"
   },
   "source": [
    "### 1. Juntando DataFrames\n",
    "\n",
    "É muito comum ter a necessidade de juntar *DataFrames* diferentes. Se você já utilizou SQL ou qualquer outro banco de dados relacional, deve conhecer isso como *join*. O Pandas também tem a mesma função utilizando o método *.merge()*. Antes do exemplo, vamos aprender/relembrar os tipos de *joins* mais comuns:<br>\n",
    "![Joining Methods](https://i.imgur.com/HaSBT91.jpg) <br>\n",
    "Agora, vamos carregar um DataFrame mais simples para testar os tipos de *merge*."
   ]
  },
  {
   "cell_type": "markdown",
   "metadata": {
    "application/vnd.databricks.v1+cell": {
     "cellMetadata": {},
     "inputWidgets": {},
     "nuid": "bb78d33a-7333-4099-8bcd-58e6e05bc638",
     "showTitle": false,
     "tableResultSettingsMap": {},
     "title": ""
    }
   },
   "source": [
    "Para os exemplos abaixo iremos utilizar o Datafram: **metal_bands**, contendo as informações sobre bandas de metal do mundo todo, suas origens e estilos musicais.\n",
    "\n",
    "Principais colunas:\n",
    "- Band — nome da banda\n",
    "- Origin — país de origem\n",
    "- Fans — número aproximado de fãs\n",
    "- Formed — ano de formação\n",
    "- Split — ano de separação ('-', se ainda ativa)\n",
    "- Style — subgênero do metal (ex: Heavy Metal, Black Metal, Thrash Metal)"
   ]
  },
  {
   "cell_type": "code",
   "execution_count": 0,
   "metadata": {
    "application/vnd.databricks.v1+cell": {
     "cellMetadata": {
      "byteLimit": 2048000,
      "rowLimit": 10000
     },
     "inputWidgets": {},
     "nuid": "4ae079c3-a4d8-4612-abfb-1e733b469ce7",
     "showTitle": false,
     "tableResultSettingsMap": {},
     "title": ""
    },
    "colab": {
     "base_uri": "https://localhost:8080/"
    },
    "id": "OZzXGdb5GUeN",
    "outputId": "1f9611cb-e73e-4c38-81d6-f98457a80bdf",
    "scrolled": true
   },
   "outputs": [],
   "source": [
    "from pyspark.sql import SparkSession\n",
    "from pyspark.sql import functions as F\n",
    "from pyspark.sql.window import Window\n",
    "\n",
    "# Criar sessão spark\n",
    "spark = SparkSession.builder.appName(\"AtividadePraticaSpark\").getOrCreate()\n",
    "\n",
    "# Execute esta célula para carregar o dataframe metal_bands com dados de bandas de metal\n",
    "metal_bands = spark.table(\"workspace.default.metal_bands\")\n",
    "\n",
    "metal_bands.printSchema()\n",
    "display(metal_bands.limit(5))"
   ]
  },
  {
   "cell_type": "markdown",
   "metadata": {
    "application/vnd.databricks.v1+cell": {
     "cellMetadata": {},
     "inputWidgets": {},
     "nuid": "ff3510fb-5670-49d5-bfa4-2b34217c166f",
     "showTitle": false,
     "tableResultSettingsMap": {},
     "title": ""
    },
    "id": "09lGpT6JGUeO"
   },
   "source": [
    "Vamos separar alguns dataframes a partir de *metal_bands* para testar os merges. Observe a célula abaixo."
   ]
  },
  {
   "cell_type": "code",
   "execution_count": 0,
   "metadata": {
    "application/vnd.databricks.v1+cell": {
     "cellMetadata": {
      "byteLimit": 2048000,
      "rowLimit": 10000
     },
     "inputWidgets": {},
     "nuid": "f8e723f3-dcc6-4fd2-a10b-14f4a531e857",
     "showTitle": false,
     "tableResultSettingsMap": {},
     "title": ""
    },
    "id": "FNwa6rP3GUeO"
   },
   "outputs": [],
   "source": [
    "# ano de formação e país das bandas\n",
    "bands_origin = metal_bands.select('id','band_name','formed','origin')\n",
    "\n",
    "# estilo das bandas\n",
    "bands_style = metal_bands.select('id','band_name','style') # estilo das bandas\n",
    "\n",
    "# bandas que se separaram\n",
    "bands_split = (metal_bands\n",
    "               .select('id','band_name','split')\n",
    "               .where(F.column('split') != \"-\")\n",
    "               )\n",
    "\n",
    "# bandas com mais de 4000 fans\n",
    "bands_4000_fans = (metal_bands\n",
    "                   .select('id','band_name','fans')\n",
    "                   .where(F.column('fans') > 4000)\n",
    "                   )\n",
    "\n",
    "# bandas formadas nos EUA\n",
    "bands_USA = (metal_bands\n",
    "             .select('id','band_name','formed','origin')\n",
    "             .where(F.column('origin') == \"USA\")\n",
    "             )\n",
    "\n",
    "# bandas formadas na Suécia\n",
    "bands_Sweden = (metal_bands\n",
    "                .select('id','band_name','formed','origin')\n",
    "                .where(F.column('origin') == 'Sweden')\n",
    "                )"
   ]
  },
  {
   "cell_type": "markdown",
   "metadata": {
    "application/vnd.databricks.v1+cell": {
     "cellMetadata": {},
     "inputWidgets": {},
     "nuid": "6a34726f-e537-4d4b-9ad9-b52cef913386",
     "showTitle": false,
     "tableResultSettingsMap": {},
     "title": ""
    },
    "id": "6YTXuXnIGUeP"
   },
   "source": [
    "Vamos criar um DataFrame a partir de ```bands_origin``` e ```bands_split```, utilizando *merge*."
   ]
  },
  {
   "cell_type": "code",
   "execution_count": 0,
   "metadata": {
    "application/vnd.databricks.v1+cell": {
     "cellMetadata": {
      "byteLimit": 2048000,
      "rowLimit": 10000
     },
     "collapsed": true,
     "inputWidgets": {},
     "nuid": "32d36386-6a80-483e-b6aa-9b4d842cf336",
     "showTitle": false,
     "tableResultSettingsMap": {},
     "title": ""
    },
    "colab": {
     "base_uri": "https://localhost:8080/"
    },
    "id": "mhtS-aNmGUeP",
    "outputId": "c71a5334-0f7b-4b82-f332-ba16d24d0f03"
   },
   "outputs": [],
   "source": [
    "origin_split = (bands_origin # o DataFrame da esquerda\n",
    "                .join(bands_split, # o DataFrame da direita\n",
    "                      on=['id', 'band_name'], # baseado em quais valores em comum (chave)\n",
    "                      how='inner' # o tipo de join que queremos fazer\n",
    "                      )\n",
    "                )\n",
    "display(origin_split.limit(5))"
   ]
  },
  {
   "cell_type": "markdown",
   "metadata": {
    "application/vnd.databricks.v1+cell": {
     "cellMetadata": {},
     "inputWidgets": {},
     "nuid": "d5c574f9-6571-4982-999a-28ca448e3e1e",
     "showTitle": false,
     "tableResultSettingsMap": {},
     "title": ""
    },
    "id": "IkugxJMmGUeP"
   },
   "source": [
    "Ótimo! Conseguimos fazer o *Join* de dois *DataFrames*. Observe que utilizamos o argumento ```how='inner'```. Lembre-se que *inner*, *left*, *right* e *outer* terão resultados diferentes, observe os merges abaixo e a explicação ao final."
   ]
  },
  {
   "cell_type": "code",
   "execution_count": 0,
   "metadata": {
    "application/vnd.databricks.v1+cell": {
     "cellMetadata": {
      "byteLimit": 2048000,
      "rowLimit": 10000
     },
     "inputWidgets": {},
     "nuid": "44c4759e-fad9-4be1-b7ec-0b3f80467084",
     "showTitle": false,
     "tableResultSettingsMap": {},
     "title": ""
    },
    "colab": {
     "base_uri": "https://localhost:8080/"
    },
    "id": "LlFKQ3c_GUeQ",
    "outputId": "f49ef45d-2610-4e30-92a4-9762c94f5dd3"
   },
   "outputs": [],
   "source": [
    "left_origin_split = (bands_origin\n",
    "                     .join(bands_split,\n",
    "                           on= ['id', 'band_name'],\n",
    "                           how=\"left\"\n",
    "                           )\n",
    "                     )\n",
    "display(left_origin_split.limit(5))"
   ]
  },
  {
   "cell_type": "code",
   "execution_count": 0,
   "metadata": {
    "application/vnd.databricks.v1+cell": {
     "cellMetadata": {
      "byteLimit": 2048000,
      "rowLimit": 10000
     },
     "collapsed": true,
     "inputWidgets": {},
     "nuid": "a82a1626-2c1f-43a9-8151-c371e12bb5d8",
     "showTitle": false,
     "tableResultSettingsMap": {},
     "title": ""
    },
    "colab": {
     "base_uri": "https://localhost:8080/"
    },
    "id": "c6AN84FAGUeQ",
    "outputId": "1fa95099-ac69-45c5-959b-8674af35f4de"
   },
   "outputs": [],
   "source": [
    "right_origin_split = (bands_origin\n",
    "                     .join(bands_split,\n",
    "                           on= ['id', 'band_name'],\n",
    "                           how=\"right\"\n",
    "                           )\n",
    "                     )\n",
    "display(right_origin_split.limit(5))"
   ]
  },
  {
   "cell_type": "code",
   "execution_count": 0,
   "metadata": {
    "application/vnd.databricks.v1+cell": {
     "cellMetadata": {
      "byteLimit": 2048000,
      "rowLimit": 10000
     },
     "collapsed": true,
     "inputWidgets": {},
     "nuid": "72709221-1f69-477e-9c7a-46629f94dec6",
     "showTitle": false,
     "tableResultSettingsMap": {},
     "title": ""
    },
    "colab": {
     "base_uri": "https://localhost:8080/"
    },
    "id": "KGL3HnY2GUeQ",
    "outputId": "5069a8cf-ec81-4d3d-b39f-67276300d336"
   },
   "outputs": [],
   "source": [
    "print('Numero de linhas do DataFrame bands_4000_fans:', bands_4000_fans.count())\n",
    "print('Numero de linhas do DataFrame bands_USA:', bands_USA.count())\n",
    "print('----------------------------------------------')\n",
    "\n",
    "outer_origin_split = (bands_4000_fans\n",
    "                     .join(bands_USA,\n",
    "                           on= ['id', 'band_name'],\n",
    "                           how=\"outer\"\n",
    "                           )\n",
    "                     )\n",
    "\n",
    "print('Numero de linhas do DataFrame após Outer entre bands_4000_fans & bands_USA:', outer_origin_split.count())\n",
    "display(outer_origin_split.limit(5))"
   ]
  },
  {
   "cell_type": "code",
   "execution_count": 0,
   "metadata": {
    "application/vnd.databricks.v1+cell": {
     "cellMetadata": {
      "byteLimit": 2048000,
      "rowLimit": 10000
     },
     "collapsed": true,
     "inputWidgets": {},
     "nuid": "e2a15774-750e-4fad-b26a-9fa050225d03",
     "showTitle": false,
     "tableResultSettingsMap": {},
     "title": ""
    }
   },
   "outputs": [],
   "source": [
    "display(bands_4000_fans)\n",
    "display(bands_USA.where(\"id IN ('0', '1', '50', '51')\"))"
   ]
  },
  {
   "cell_type": "markdown",
   "metadata": {
    "application/vnd.databricks.v1+cell": {
     "cellMetadata": {},
     "inputWidgets": {},
     "nuid": "8ca33c70-3182-4cbd-91b0-5e0bcdc21c75",
     "showTitle": false,
     "tableResultSettingsMap": {},
     "title": ""
    },
    "id": "N2ZELBv-GUeQ"
   },
   "source": [
    "Como podemos ver, os resultados são de fato bem diferentes.\n",
    "\n",
    "O *inner* mantém apenas os dados das bandas encontradas nos dois dataframes (onde há correspondência de *id*), dessa forma, a posição do dataframe não faz diferença.\n",
    "\n",
    "No *left*, mantemos os dados do dataframe à esquerda, e trazemos os dados do dataframe à direita no qual encontrou-se a chave (neste exemplo, o *id* da banda).\n",
    "\n",
    "Por outro lado, no *right* ocorre o contrário, mantemos os dados do dataframe à direita e, quando há correspondência da chave, trazemos os dados do dataframe à esquerda. Note que o número de entradas (*entries*) é diferente do caso com o *left*. Isso ocorre porque no *left* mantemos os dados de formação das bandas (ou seja, o dataframe contém todas as bandas do .csv), enquanto no *right*, mantemos apenas os dados de bandas que se separaram (e existem muitas bandas que ainda continuam juntas).\n",
    "\n",
    "Por fim, no *outer* utilizamos dois dataframes diferentes dos anteriores para facilitar o entendimento. Observe pelos prints que existem apenas 4 bandas com mais de 4000 fans e 1139 bandas formadas nos EUA. Quando fazemos o *join* com *outer*, observe que o total de linhas passa a ser 1143. O que acontece é que esse tipo de join mantém os dados de ambos os dataframes, independente se houve correspondência de chave ou não.\n",
    "\n",
    "Podemos também querer apenas concatenar dois *DataDrames*, isto é, juntá-los colocando um abaixo do outro. Para isso, utilizamos o método *.union()*:"
   ]
  },
  {
   "cell_type": "code",
   "execution_count": 0,
   "metadata": {
    "application/vnd.databricks.v1+cell": {
     "cellMetadata": {
      "byteLimit": 2048000,
      "rowLimit": 10000
     },
     "collapsed": true,
     "inputWidgets": {},
     "nuid": "8400a3da-6360-4a27-948b-6ed1eb1c4f1b",
     "showTitle": false,
     "tableResultSettingsMap": {},
     "title": ""
    },
    "colab": {
     "base_uri": "https://localhost:8080/"
    },
    "id": "dUujmDFLGUeR",
    "outputId": "9f6cae49-07b3-410b-be0c-946caaffd4df"
   },
   "outputs": [],
   "source": [
    "# concatenando bandas formadas nos EUA e bandas formadas na Suécia\n",
    "USA_Sweden = bands_USA.union(bands_Sweden)\n",
    "\n",
    "print('Numero de linhas do DataFrame bands_USA:', bands_USA.count())\n",
    "print('Numero de linhas do DataFrame bands_Sweden:', bands_Sweden.count())\n",
    "print('Numero de linhas do DataFrame após union entre bands_USA & bands_Sweden:', USA_Sweden.count())\n",
    "display(USA_Sweden.limit(5))"
   ]
  },
  {
   "cell_type": "markdown",
   "metadata": {
    "application/vnd.databricks.v1+cell": {
     "cellMetadata": {},
     "inputWidgets": {},
     "nuid": "e7a7c52c-69d4-4715-9bdb-957116c775a4",
     "showTitle": false,
     "tableResultSettingsMap": {},
     "title": ""
    },
    "id": "tzPsK8TDI7XK"
   },
   "source": [
    "## Exercício 1\n",
    "O Ultimate Team (FUT) é um modo do jogo FIFA no qual o jogador monta seu próprio time adquirindo atletas virtuais.\n",
    "Cada atleta possui atributos que influenciam seu desempenho em campo — como drible, chute, passe, defesa, velocidade e físico.\n",
    "\n",
    "Principais colunas:\n",
    "- `player_id` — identificador único do jogador\n",
    "- `player_name` — nome do atleta\n",
    "- `nationality` — país de origem\n",
    "- `club` — clube atual\n",
    "- `overall` — nota geral do jogador\n",
    "- `potential` — potencial máximo de evolução\n",
    "- `value_eur, wage_eur` — valor de mercado e salário\n",
    "- `age, height_cm, weight_kg` — características físicas\n",
    "- `pace, shooting, passing, dribbling, defending, physic` — atributos técnicos\n",
    "\n",
    "_**Preencha os espacos ____ para carregar os dados e realizar as consultas propostas.**_"
   ]
  },
  {
   "cell_type": "markdown",
   "metadata": {
    "application/vnd.databricks.v1+cell": {
     "cellMetadata": {},
     "inputWidgets": {},
     "nuid": "03355277-b71d-4305-9e0c-93b1ae3c0af1",
     "showTitle": false,
     "tableResultSettingsMap": {},
     "title": ""
    }
   },
   "source": [
    "### Exercício 1.1 Faça a leitura do arquivo fut_players (fut_player_data.csv) e retorne as 5 primeiras linhas"
   ]
  },
  {
   "cell_type": "code",
   "execution_count": 0,
   "metadata": {
    "application/vnd.databricks.v1+cell": {
     "cellMetadata": {
      "byteLimit": 2048000,
      "rowLimit": 10000
     },
     "inputWidgets": {},
     "nuid": "34ac2c68-7137-4e03-895d-90863a15e274",
     "showTitle": false,
     "tableResultSettingsMap": {
      "0": {
       "dataGridStateBlob": "{\"version\":1,\"tableState\":{\"columnPinning\":{\"left\":[\"#row_number#\"],\"right\":[]},\"columnSizing\":{},\"columnVisibility\":{}},\"settings\":{\"columns\":{}},\"syncTimestamp\":1761923709653}",
       "filterBlob": null,
       "queryPlanFiltersBlob": null,
       "tableResultIndex": 0
      }
     },
     "title": ""
    }
   },
   "outputs": [],
   "source": [
    "# Faça a leitura do arquivo fut_players \n",
    "fut_players = spark.table('workspace.default.fut_players_data')\n",
    "\n",
    "# Retorne as 5 primeiras linhas do DF\n",
    "display(fut_players.limit(5))"
   ]
  },
  {
   "cell_type": "markdown",
   "metadata": {
    "application/vnd.databricks.v1+cell": {
     "cellMetadata": {},
     "inputWidgets": {},
     "nuid": "b4772306-ca38-491e-b1ca-05276bf7809d",
     "showTitle": false,
     "tableResultSettingsMap": {},
     "title": ""
    }
   },
   "source": [
    "### Exercício 1.2 - Retorna a nacionalidade dos jogadores \"The Bests\"\n",
    "\n",
    "São considerados jogadores The Bests os que possuem os atributos de drible (_dribbling_) e chute (_shooting_) superior a 90. \n",
    "Após a geração do DF _The_Best_ realize o join com o df _nationalities_ para obter a nacionalidade dos jogadores.\n",
    "\n",
    "A sua tabela final deve conter as seguintes informações:\n",
    "- `player_id`\n",
    "- `player_name`\n",
    "- `nationality`\n",
    "- `position`\n",
    "- `dribbling`\n",
    "- `shooting`\n",
    "- `overall`"
   ]
  },
  {
   "cell_type": "code",
   "execution_count": 0,
   "metadata": {
    "application/vnd.databricks.v1+cell": {
     "cellMetadata": {
      "byteLimit": 2048000,
      "rowLimit": 10000
     },
     "inputWidgets": {},
     "nuid": "6b47f837-2a7d-45e9-98c2-50fd472cf41f",
     "showTitle": false,
     "tableResultSettingsMap": {},
     "title": ""
    },
    "colab": {
     "base_uri": "https://localhost:8080/",
     "height": 483
    },
    "exid": "3.3",
    "id": "R8HLaE17I7XK",
    "outputId": "92f342dd-e674-4d90-9598-674b92df2695"
   },
   "outputs": [],
   "source": [
    "# Aplique os filtros para retornar os jogadores the bests\n",
    "the_best = fut_players.select(\n",
    "    'player_id', 'player_name', 'position', 'dribbling', 'shooting', 'overall'\n",
    "    ).where(F.column('dribbling') > 90)\\\n",
    "    .where(F.column('shooting') > 90)\n",
    "\n",
    "# nationalities é um DataFrame da nacionalidade dos jogadores\n",
    "nationalities = (fut_players.select('player_id', 'player_name', 'nationality'))\n",
    "\n",
    "# faça um join dos dois DataDrames, mantendo todos os jogadores de the_best e obtendo suas nacionalidades (dica: a chave é o id)\n",
    "the_best_nationality = the_best.join(nationalities, on= ['player_id', 'player_name'], how='left')\n",
    "\n",
    "the_best_nationality.display()"
   ]
  },
  {
   "cell_type": "markdown",
   "metadata": {
    "application/vnd.databricks.v1+cell": {
     "cellMetadata": {},
     "inputWidgets": {},
     "nuid": "7c5dc43c-3db4-4b76-84d3-deab275eb360",
     "showTitle": false,
     "tableResultSettingsMap": {},
     "title": ""
    },
    "id": "QBYGj098Jqqt"
   },
   "source": [
    "## 2. Alterando o dataframe\n"
   ]
  },
  {
   "cell_type": "markdown",
   "metadata": {
    "application/vnd.databricks.v1+cell": {
     "cellMetadata": {},
     "inputWidgets": {},
     "nuid": "7d36433a-bbd2-4484-a220-5a68e29b4b09",
     "showTitle": false,
     "tableResultSettingsMap": {},
     "title": ""
    }
   },
   "source": [
    "Agora iremos utilizar o DataFrame _**pokemon_data**_. Essa base reúne informações sobre os Pokémons das diversas gerações da franquia, contendo atributos, classificações e estatísticas de batalha.\n",
    "\n",
    "Principais Colunas:\n",
    "- Name — nome do Pokémon \n",
    "- Type 1, Type 2 — tipos primário e secundário (ex: Fire, Water, Grass) \n",
    "- HP, Attack, Defense, Sp. Atk, Sp. Def, Speed — atributos de combate \n",
    "- Generation — geração à qual pertence\n",
    "- Legendary - Se e ou não um Pokémon lendário"
   ]
  },
  {
   "cell_type": "code",
   "execution_count": 0,
   "metadata": {
    "application/vnd.databricks.v1+cell": {
     "cellMetadata": {
      "byteLimit": 2048000,
      "rowLimit": 10000
     },
     "collapsed": true,
     "inputWidgets": {},
     "nuid": "159ab265-bb52-47ec-ace4-5f43b19cd23a",
     "showTitle": false,
     "tableResultSettingsMap": {},
     "title": ""
    }
   },
   "outputs": [],
   "source": [
    "pkmn = spark.table(\"workspace.default.pokemon_data\")\n",
    "\n",
    "display(pkmn.limit(5))"
   ]
  },
  {
   "cell_type": "markdown",
   "metadata": {
    "application/vnd.databricks.v1+cell": {
     "cellMetadata": {},
     "inputWidgets": {},
     "nuid": "d388c6f3-a4d8-4ccd-aa07-7a4fe5e6588b",
     "showTitle": false,
     "tableResultSettingsMap": {},
     "title": ""
    }
   },
   "source": [
    "Até o momento apenas utilizamos os dados da forma que nos foram fornecidos, mas e se precisássemos criar alguma coluna que fosse a combinação das demais? Por exemplo, caso eu deseje criar uma coluna que corresponde à soma do ataque e velocidade dos Pokémons? Observe abaixo:"
   ]
  },
  {
   "cell_type": "code",
   "execution_count": 0,
   "metadata": {
    "application/vnd.databricks.v1+cell": {
     "cellMetadata": {
      "byteLimit": 2048000,
      "rowLimit": 10000
     },
     "collapsed": true,
     "inputWidgets": {},
     "nuid": "e8bda330-4605-40e2-93fc-fcfac398cfc8",
     "showTitle": false,
     "tableResultSettingsMap": {},
     "title": ""
    },
    "id": "7Vol_9nSJqqt"
   },
   "outputs": [],
   "source": [
    "# Criando a coluna desejada\n",
    "pkmn = pkmn.withColumn(\"Sum_Attack_Speed\", F.col(\"Attack\") + F.col(\"Speed\"))\n",
    "display(pkmn.limit(5))"
   ]
  },
  {
   "cell_type": "markdown",
   "metadata": {
    "application/vnd.databricks.v1+cell": {
     "cellMetadata": {},
     "inputWidgets": {},
     "nuid": "22ce8ad8-fbf4-4dba-a05c-82d000f5ab0d",
     "showTitle": false,
     "tableResultSettingsMap": {},
     "title": ""
    },
    "id": "kKj3aVaJJqqt"
   },
   "source": [
    "Observe como foi fácil! Apenas utilizamos o operador de soma com as duas colunas necessárias. Você pode fazer isso com outras operações também, basta utilizar ```-```, ```/``` ou ```*```. Além disso, você pode combinar quantas colunas quiser!\n",
    "\n",
    "Mas e se precisarmos alterar apenas algumas linhas do nosso DataFrame?\n",
    "\n",
    "Por exemplo, suponha que você percebeu que seus dados estão errados, e todos os Pokémons com velocidade acima de 100 deveriam estar marcados como Type_1 = 'Fire', podemos seguir o procedimento abaixo:"
   ]
  },
  {
   "cell_type": "code",
   "execution_count": 0,
   "metadata": {
    "application/vnd.databricks.v1+cell": {
     "cellMetadata": {
      "byteLimit": 2048000,
      "rowLimit": 10000
     },
     "collapsed": true,
     "inputWidgets": {},
     "nuid": "9ced5fc8-5bac-4c21-8db8-3656ec0b6f7d",
     "showTitle": false,
     "tableResultSettingsMap": {},
     "title": ""
    },
    "id": "qQBpzewGJqqt"
   },
   "outputs": [],
   "source": [
    "# Observe os valores unicos da coluna Type_1 para os Pokémons com mais de 100 de velocidade\n",
    "pkmn.filter(pkmn[\"Speed\"] > 100).select(\"Type 1\").distinct().display()"
   ]
  },
  {
   "cell_type": "code",
   "execution_count": 0,
   "metadata": {
    "application/vnd.databricks.v1+cell": {
     "cellMetadata": {
      "byteLimit": 2048000,
      "rowLimit": 10000
     },
     "collapsed": true,
     "inputWidgets": {},
     "nuid": "ffa3c990-cee5-43f4-b6ef-d288c7a2fcc7",
     "showTitle": false,
     "tableResultSettingsMap": {},
     "title": ""
    },
    "id": "h72hBW8dJqqu",
    "scrolled": true
   },
   "outputs": [],
   "source": [
    "# Vamos alterar os casos onde Speed é superior a 100 para Fire\n",
    "pkmn = pkmn.withColumn(\n",
    "    \"Type 1\",\n",
    "    F.when(pkmn[\"Speed\"] > 100, \"Fire\").otherwise(pkmn[\"Type 1\"])\n",
    ")"
   ]
  },
  {
   "cell_type": "code",
   "execution_count": 0,
   "metadata": {
    "application/vnd.databricks.v1+cell": {
     "cellMetadata": {
      "byteLimit": 2048000,
      "rowLimit": 10000
     },
     "collapsed": true,
     "inputWidgets": {},
     "nuid": "2771a19b-8f97-4193-a7b6-c02a7bf8e736",
     "showTitle": false,
     "tableResultSettingsMap": {},
     "title": ""
    },
    "id": "UzzN9AvnJqqu"
   },
   "outputs": [],
   "source": [
    "# Observe como os valores mudaram\n",
    "pkmn.filter(pkmn[\"Speed\"] > 100).select(\"Type 1\").distinct().display()"
   ]
  },
  {
   "cell_type": "markdown",
   "metadata": {
    "application/vnd.databricks.v1+cell": {
     "cellMetadata": {},
     "inputWidgets": {},
     "nuid": "49e52764-c060-4aef-a633-397f670d3ad4",
     "showTitle": false,
     "tableResultSettingsMap": {},
     "title": ""
    }
   },
   "source": [
    "Relendo o arquivo para desconsiderar os tratamentos de exemplos que fizemos acima"
   ]
  },
  {
   "cell_type": "code",
   "execution_count": 0,
   "metadata": {
    "application/vnd.databricks.v1+cell": {
     "cellMetadata": {
      "byteLimit": 2048000,
      "rowLimit": 10000
     },
     "collapsed": true,
     "inputWidgets": {},
     "nuid": "a7d1ba12-e069-41d7-a6ba-c895a2b5ba73",
     "showTitle": false,
     "tableResultSettingsMap": {},
     "title": ""
    },
    "id": "tv2HUSpHJqqu"
   },
   "outputs": [],
   "source": [
    "\n",
    "pkmn = spark.table(\"workspace.default.pokemon_data\")\n",
    "\n",
    "# Renomeando as colunas\n",
    "pkmn = (\n",
    "    pkmn\n",
    "    .withColumnRenamed(\"Type 1\", \"Type_1\")\n",
    "    .withColumnRenamed(\"Type 2\", \"Type_2\")\n",
    "    .withColumnRenamed(\"Sp. Atk\", \"Sp_Atk\")\n",
    "    .withColumnRenamed(\"Sp. Def\", \"Sp_Def\")\n",
    ")\n",
    "\n"
   ]
  },
  {
   "cell_type": "markdown",
   "metadata": {
    "application/vnd.databricks.v1+cell": {
     "cellMetadata": {},
     "inputWidgets": {},
     "nuid": "d66ea596-dc10-4260-8bbb-2df4eb03267c",
     "showTitle": false,
     "tableResultSettingsMap": {},
     "title": ""
    },
    "id": "c8AoBG2uI7XM"
   },
   "source": [
    "## 3. Operações em grupo\n",
    "\n",
    "Com PySpark nós podemos aplicar operações em grupos usando o método *.groupby()*. Ele é muito útil por ser uma forma bem simples de extrair informação de dados agregados. Para utilizá-lo, passamos as colunas nas quais queremos agrupar os dados e a operação que queremos fazer. Para exemplificar, vamos ver quantos Pokémons lendários cada geração tem:"
   ]
  },
  {
   "cell_type": "code",
   "execution_count": 0,
   "metadata": {
    "application/vnd.databricks.v1+cell": {
     "cellMetadata": {
      "byteLimit": 2048000,
      "rowLimit": 10000
     },
     "collapsed": true,
     "inputWidgets": {},
     "nuid": "bd04e4d2-b90b-47ad-a853-533ec73277f2",
     "showTitle": false,
     "tableResultSettingsMap": {},
     "title": ""
    },
    "id": "sa35RiniJqqv"
   },
   "outputs": [],
   "source": [
    "pkmn_soma = (pkmn\n",
    "            .groupBy(\"Generation\") # Campo que sera agrupado\n",
    "            .agg(\n",
    "                F.sum(F.col(\"Legendary\").cast(\"int\")) # Converte a coluna \"Legendary\" em inteiro e faz a soma\n",
    "                .alias(\"Qtd_Legendary\") # Nomeando a coluna que receberá o resultado da soma\n",
    "                )\n",
    "            )\n",
    "pkmn_soma.display()"
   ]
  },
  {
   "cell_type": "markdown",
   "metadata": {
    "application/vnd.databricks.v1+cell": {
     "cellMetadata": {},
     "inputWidgets": {},
     "nuid": "bcd289bd-b116-4557-abbb-69269ab89849",
     "showTitle": false,
     "tableResultSettingsMap": {},
     "title": ""
    },
    "id": "f6-GqOx3I7XO"
   },
   "source": [
    "Podemos obter um relatório da média de diversas colunas para cada tipo de Pokémon:"
   ]
  },
  {
   "cell_type": "code",
   "execution_count": 0,
   "metadata": {
    "application/vnd.databricks.v1+cell": {
     "cellMetadata": {
      "byteLimit": 2048000,
      "rowLimit": 10000
     },
     "collapsed": true,
     "inputWidgets": {},
     "nuid": "cb3e6782-6102-4a0c-96ed-aa247396c252",
     "showTitle": false,
     "tableResultSettingsMap": {
      "0": {
       "dataGridStateBlob": "{\"version\":1,\"tableState\":{\"columnPinning\":{\"left\":[\"#row_number#\"],\"right\":[]},\"columnSizing\":{},\"columnVisibility\":{}},\"settings\":{\"columns\":{}},\"syncTimestamp\":1761012182951}",
       "filterBlob": null,
       "queryPlanFiltersBlob": null,
       "tableResultIndex": 0
      }
     },
     "title": ""
    },
    "id": "kMKuWc3RJqqv"
   },
   "outputs": [],
   "source": [
    "pkmn_media = (pkmn\n",
    "                .groupBy(\"Type_1\")\n",
    "                .agg(\n",
    "                    F.mean(\"HP\").alias(\"HP_medio\"),\n",
    "                    F.mean(\"Attack\").alias(\"Attack_medio\"),\n",
    "                    F.mean(\"Defense\").alias(\"Defense_medio\")\n",
    "                    )\n",
    "                )\n",
    "pkmn_media.display()"
   ]
  },
  {
   "cell_type": "markdown",
   "metadata": {
    "application/vnd.databricks.v1+cell": {
     "cellMetadata": {},
     "inputWidgets": {},
     "nuid": "8285d572-96c3-4d3a-a722-268cfb2168e6",
     "showTitle": false,
     "tableResultSettingsMap": {},
     "title": ""
    },
    "id": "oiyLWKjGI7XP"
   },
   "source": [
    "\n",
    "\n",
    "###  Exercício 2\n",
    "Use o método *.groupby()* para descobrir qual país tem o melhor *overall* médio. Crie a coluna 'avg_overall'\n",
    "\n",
    "Seu df country_avg_overall deve conter as seguintes colunas:\n",
    "- `nationality`\n",
    "- `overall`\n",
    "- `avg_overall`"
   ]
  },
  {
   "cell_type": "code",
   "execution_count": 0,
   "metadata": {
    "application/vnd.databricks.v1+cell": {
     "cellMetadata": {
      "byteLimit": 2048000,
      "rowLimit": 10000
     },
     "collapsed": true,
     "inputWidgets": {},
     "nuid": "78c568c4-963c-49d9-8a49-a621aa80d7ec",
     "showTitle": false,
     "tableResultSettingsMap": {},
     "title": ""
    },
    "exid": "3.4",
    "id": "y45dj9wlI7XP"
   },
   "outputs": [],
   "source": [
    "country_avg_overall = fut_players.groupBy('nationality').agg(F.mean('overall').alias('avg_overall'))\n",
    "\n",
    "# Retornar a nacionalidade com maior overall médio e o overall médio do brasil\n",
    "melhor = (\n",
    "    country_avg_overall\n",
    "    .orderBy(F.col(\"avg_overall\").desc())\n",
    "    .limit(1)\n",
    "    .collect()[0]\n",
    ")\n",
    "\n",
    "brasil = (\n",
    "    country_avg_overall\n",
    "    .filter(F.col(\"nationality\") == \"Brazil\")\n",
    "    .collect()[0]\n",
    ")\n",
    "\n",
    "display({\n",
    "    \"Melhor overall médio\": f\"{melhor['nationality']}: {melhor['avg_overall']:.2f}\",\n",
    "    \"Overall médio do Brasil\": round(brasil['avg_overall'], 2)\n",
    "})"
   ]
  },
  {
   "cell_type": "markdown",
   "metadata": {
    "application/vnd.databricks.v1+cell": {
     "cellMetadata": {},
     "inputWidgets": {},
     "nuid": "40bdadfc-dece-4cdd-8578-d1ecaf198d27",
     "showTitle": false,
     "tableResultSettingsMap": {},
     "title": ""
    },
    "id": "ThDV5uypI7Xf"
   },
   "source": [
    "Agora nós já cobrimos toda a parte básica do Spark! Vamos praticar essa última parte!\n",
    "\n",
    "### Exercício 2.1\n",
    "Crie um racional que retorne a classificação para o jogador de acordo com as instruções abaixo, então aplique isso para o dataframe fut_players.\n",
    "\n",
    "*Observação:* considere os limites dentro do intervalo de classificação.\n",
    "exemplo\n",
    "\n",
    "-50 contém todos os valores menores que 50 e o valor 50 incluso;\n",
    "\n",
    "\n",
    "51-60 contém todos os valores entre 51 e 60 com os limites [51,60] inclusos no grupo;\n",
    "\n",
    "\n",
    "e assim por diante ..."
   ]
  },
  {
   "cell_type": "code",
   "execution_count": 0,
   "metadata": {
    "application/vnd.databricks.v1+cell": {
     "cellMetadata": {
      "byteLimit": 2048000,
      "rowLimit": 10000
     },
     "inputWidgets": {},
     "nuid": "41462faf-78a6-4085-8ec9-1d5f3b964aaa",
     "showTitle": false,
     "tableResultSettingsMap": {},
     "title": ""
    }
   },
   "outputs": [],
   "source": [
    "\n",
    "\"\"\"\n",
    "    Através do overall do jogador retorne a classificação conforme a seguir:\n",
    "    Overall -> classification\n",
    "    -50     -> \"Amador\"\n",
    "    51-60   -> \"Ruim\"\n",
    "    61-70   -> \"Ok\"\n",
    "    71-80   -> \"Bom\"\n",
    "    81-90   -> \"Ótimo\"\n",
    "    91+     -> \"Lenda\"\n",
    "    \n",
    "    I: int overall\n",
    "    O: string\n",
    "\"\"\"\n",
    "# Dica utilize as clasulas when e otherwise\n",
    "fut_players = (fut_players\n",
    "               .select('player_id', 'overall')\n",
    "               .withColumn('classification', \n",
    "                           F.when(F.col('overall') <= 50, 'Amador')\n",
    "                            .when((F.col('overall') >= 51) & \n",
    "                                  (F.col('overall') <= 60), 'Ruim')\n",
    "                            .when((F.col('overall') >= 61) & \n",
    "                                  (F.col('overall') <= 70), 'Ok')\n",
    "                            .when((F.col('overall') >= 71) &\n",
    "                                  (F.col('overall') <= 80), 'Bom')\n",
    "                            .when((F.col('overall') >= 81) &\n",
    "                                  (F.col('overall') <= 90), 'Ótimo')\n",
    "                            .when(F.col('overall') >= 91, 'Lenda')\n",
    "                            .otherwise(None)\n",
    "                          )\n",
    "              )\n",
    "\n",
    "# Contar quantos jogadores há em cada classificação\n",
    "fut_players.groupBy(\"classification\").count().orderBy(\"count\", ascending=False).display()"
   ]
  },
  {
   "cell_type": "markdown",
   "metadata": {
    "application/vnd.databricks.v1+cell": {
     "cellMetadata": {},
     "inputWidgets": {},
     "nuid": "918cf9ea-0972-4bc8-8327-a3a0586f8fb2",
     "showTitle": false,
     "tableResultSettingsMap": {},
     "title": ""
    }
   },
   "source": [
    "## Desafio — Montando o Time dos Sonhos do 🇧🇷\n",
    "\n",
    "Ainda utilizando a base **`fut_players_data`**, imagine que você é um grande fã do jogo *FIFA*, e deseja montar o **Time dos Sonhos (Dream Team)** do **Brasil**, selecionando os **melhores jogadores por posição**, ou seja, aqueles com o **maior overall** dentro de cada grupo de posição.\n",
    "\n",
    "Para isso, adote a **formação tática 4-4-2**, composta por:\n",
    "\n",
    "- **1 Goleiro (GK)**  \n",
    "- **4 Defensores (Defesa)**  \n",
    "- **4 Meio-campistas (Meio)**  \n",
    "- **2 Atacantes (Ataque)**  \n",
    "\n",
    "### Objetivo\n",
    "Criar um *DataFrame* com **11 linhas**, representando o **melhor jogador de cada posição dentro da formação 4-4-2**, com as seguintes colunas:\n",
    "\n",
    "- `nationality` — nacionalidade do jogador  \n",
    "- `position_group` — posição agrupada (Goleiro, Defesa, Meio, Ataque)  \n",
    "- `player_name` — nome do jogador  \n",
    "- `overall` — nota geral (overall)\n",
    "\n",
    "---\n",
    "\n",
    "### Agrupamento de posições\n",
    "Para facilitar a análise, agrupe as posições originais da base conforme a tabela abaixo:\n",
    "\n",
    "| **position_group** | **Posições incluídas (`position`)** | **Descrição** |\n",
    "|:--------------------|:------------------------------------|:---------------|\n",
    "| **Goleiro** | `GK` | Jogadores que atuam exclusivamente no gol. |\n",
    "| **Defesa** | `CB`, `LB`, `RB`, `LWB`, `RWB` | Zagueiros e laterais (defensores). |\n",
    "| **Meio** | `CM`, `CDM`, `CAM`, `LM`, `RM` | Meio-campistas centrais, volantes e meias ofensivos/laterais. |\n",
    "| **Ataque** | `ST`, `CF`, `LW`, `RW`, `LF`, `RF` | Atacantes e pontas. |\n",
    "| **Outros** | *(demais posições não classificadas)* | Jogadores fora do esquema tático principal (ex: cartas especiais). |\n",
    "\n",
    "---\n",
    "\n",
    "### 🏁 Entrega esperada\n",
    "Seu *DataFrame final* deve retornar **11 jogadores**, representando o **Time dos Sonhos do Brasil (formação 4-4-2)**, conforme os critérios acima."
   ]
  },
  {
   "cell_type": "code",
   "execution_count": 0,
   "metadata": {
    "application/vnd.databricks.v1+cell": {
     "cellMetadata": {
      "byteLimit": 2048000,
      "rowLimit": 10000
     },
     "inputWidgets": {},
     "nuid": "4beab227-2f86-4554-b24f-e3ebabbfcce7",
     "showTitle": false,
     "tableResultSettingsMap": {
      "0": {
       "dataGridStateBlob": "{\"version\":1,\"tableState\":{\"columnPinning\":{\"left\":[\"#row_number#\"],\"right\":[]},\"columnSizing\":{},\"columnVisibility\":{}},\"settings\":{\"columns\":{}},\"syncTimestamp\":1762002280644}",
       "filterBlob": null,
       "queryPlanFiltersBlob": null,
       "tableResultIndex": 0
      }
     },
     "title": ""
    }
   },
   "outputs": [],
   "source": [
    "# Realize novamente o import da base\n",
    "fut_players = spark.table('workspace.default.fut_players_data')\n",
    "\n",
    "fut_players_br = fut_players.filter(F.col('nationality') == 'Brazil')\n",
    "\n",
    "fut_players_and_group = fut_players_br\\\n",
    "                        .withColumn('position_group', \n",
    "                       F.when(F.col('position').isin('GK'), 'Goleiro')\n",
    "                        .when(F.col('position').isin('CB', 'LB', 'RB', 'LWB', 'RWB'), 'Defesa')\n",
    "                        .when(F.col('position').isin('CM', 'CDM', 'CAM', 'LM', 'RM'), 'Meio')\n",
    "                        .when(F.col('position').isin('ST', 'CF', 'LW', 'RW', 'LF', 'RF'), 'Ataque')\n",
    "                        .otherwise(None)\n",
    "                        ).select('nationality', 'player_name', 'overall', 'position_group')\n",
    "\n",
    "janela = Window.partitionBy('position_group').orderBy(F.col('overall').desc())\n",
    "\n",
    "# rank() gera duplicatas no rankeamento, row_number() não\n",
    "players_ranked = fut_players_and_group.withColumn('rank', F.row_number().over(janela))\n",
    "\n",
    "best_11 = players_ranked.filter(\n",
    "    ((F.col('position_group') == 'Goleiro') & (F.col('rank') == 1)) |\n",
    "    ((F.col('position_group') == 'Ataque') & (F.col('rank') <= 2)) |\n",
    "    ((F.col('position_group') == 'Meio') & (F.col('rank') <= 4)) |\n",
    "    ((F.col('position_group') == 'Defesa') & (F.col('rank') <= 4)) \n",
    ").drop('rank')\n",
    "\n",
    "display(best_11)"
   ]
  },
  {
   "cell_type": "markdown",
   "metadata": {
    "application/vnd.databricks.v1+cell": {
     "cellMetadata": {},
     "inputWidgets": {},
     "nuid": "c908a536-9874-4ad1-b0d5-3ab2e93c7ec4",
     "showTitle": false,
     "tableResultSettingsMap": {},
     "title": ""
    }
   },
   "source": [
    "### Desafio Bônus\n",
    "\n",
    "Você deve ter notado que **Neymar** aparece tanto entre os melhores jogadores de **ataque** quanto do **meio-campo**.  \n",
    "Isso acontece porque o dataset contém **múltiplas versões do mesmo jogador**, inclusive atuando em **outras posições**, o que é típico dos modos do *FIFA/Ultimate Team*.\n",
    "\n",
    "O seu desafio agora é **refazer o exercício anterior**, garantindo que **cada jogador apareça apenas uma vez** no *DataFrame final*.\n",
    "\n",
    "- Caso o jogador possua mais de uma versão (carta), **considere apenas aquela com o maior valor de `overall`**.  \n",
    "- Em seguida, **reaplique a lógica da formação 4-4-2**, selecionando os melhores por grupo de posição.\n",
    "\n",
    "---\n",
    "\n",
    "### 🏁 Entrega Esperada\n",
    "Seu *DataFrame final* deve retornar **11 jogadores únicos**, representando o **Dream Team do Brasil** na **formação tática 4-4-2**, **sem repetição de atletas**, conforme os critérios estabelecidos acima.\n"
   ]
  },
  {
   "cell_type": "code",
   "execution_count": 0,
   "metadata": {
    "application/vnd.databricks.v1+cell": {
     "cellMetadata": {
      "byteLimit": 2048000,
      "rowLimit": 10000
     },
     "inputWidgets": {},
     "nuid": "1f7b4203-7d49-4235-8007-f52fd91d85ae",
     "showTitle": false,
     "tableResultSettingsMap": {
      "0": {
       "dataGridStateBlob": "{\"version\":1,\"tableState\":{\"columnPinning\":{\"left\":[\"#row_number#\"],\"right\":[]},\"columnSizing\":{},\"columnVisibility\":{}},\"settings\":{\"columns\":{}},\"syncTimestamp\":1762003463322}",
       "filterBlob": null,
       "queryPlanFiltersBlob": null,
       "tableResultIndex": 0
      }
     },
     "title": ""
    }
   },
   "outputs": [],
   "source": [
    "fut_players_br = fut_players.filter(F.col('nationality') == 'Brazil')\n",
    "\n",
    "# para evitar repetições, vamos retirar as linhas com os nomes repetidos dos players - critério de desempate é o 'overall'\n",
    "fut_players_unique = fut_players_br.orderBy(F.col('overall').desc()).dropDuplicates(['player_name'])\n",
    "\n",
    "fut_players_and_group = fut_players_unique\\\n",
    "                        .withColumn('position_group', \n",
    "                       F.when(F.col('position').isin('GK'), 'Goleiro')\n",
    "                        .when(F.col('position').isin('CB', 'LB', 'RB', 'LWB', 'RWB'), 'Defesa')\n",
    "                        .when(F.col('position').isin('CM', 'CDM', 'CAM', 'LM', 'RM'), 'Meio')\n",
    "                        .when(F.col('position').isin('ST', 'CF', 'LW', 'RW', 'LF', 'RF'), 'Ataque')\n",
    "                        .otherwise(None)\n",
    "                        ).select('nationality', 'player_name', 'overall', 'position_group')\n",
    "\n",
    "janela = Window.partitionBy('position_group').orderBy(F.col('overall').desc())\n",
    "\n",
    "# rank() gera duplicatas no rankeamento, row_number() não\n",
    "players_ranked = fut_players_and_group.withColumn('rank', F.row_number().over(janela))\n",
    "\n",
    "best_11 = players_ranked.filter(\n",
    "    ((F.col('position_group') == 'Goleiro') & (F.col('rank') == 1)) |\n",
    "    ((F.col('position_group') == 'Ataque') & (F.col('rank') <= 2)) |\n",
    "    ((F.col('position_group') == 'Meio') & (F.col('rank') <= 4)) |\n",
    "    ((F.col('position_group') == 'Defesa') & (F.col('rank') <= 4)) \n",
    ").drop('rank')\n",
    "\n",
    "display(best_11)"
   ]
  },
  {
   "cell_type": "markdown",
   "metadata": {
    "application/vnd.databricks.v1+cell": {
     "cellMetadata": {},
     "inputWidgets": {},
     "nuid": "eca59053-34d1-456f-a9be-e53997c9f6bf",
     "showTitle": false,
     "tableResultSettingsMap": {},
     "title": ""
    },
    "id": "-3S_q2RDGUeX"
   },
   "source": [
    "# Declaração de Inexistência de Plágio:\n",
    "\n",
    "1. Eu sei que plágio é utilizar o trabalho de outra pessoa e apresentar como meu.\n",
    "2. Eu sei que plágio é errado e declaro que este notebook foi feito por mim.\n",
    "3. Tenho consciência de que a utilização do trabalho de terceiros é antiético e está sujeito a medidas administrativas.\n",
    "4. Declaro também que não compartilhei e não compartilharei meu trabalho com o intuito de que seja copiado e submetido por outra pessoa."
   ]
  },
  {
   "cell_type": "markdown",
   "metadata": {
    "application/vnd.databricks.v1+cell": {
     "cellMetadata": {},
     "inputWidgets": {},
     "nuid": "ded79e90-940a-43b2-b441-f523c4039709",
     "showTitle": false,
     "tableResultSettingsMap": {},
     "title": ""
    },
    "id": "2vGlLn0hI7Xh"
   },
   "source": [
    "# Fim da aula!\n",
    "\n",
    "Obrigado por participar do curso, você acaba de finalizar o Módulo de Pyspark. Neste momento você já deve ser capaz de manipular seus dados no Spark, utilizando as bibliotecas que acabamos de aprender!\n",
    "\n",
    "Lembre-se que sempre que surgir alguma dúvida, você pode olhar a documentação do [PySpark](https://spark.apache.org/docs/latest/api/python/reference)."
   ]
  }
 ],
 "metadata": {
  "application/vnd.databricks.v1+notebook": {
   "computePreferences": null,
   "dashboards": [],
   "environmentMetadata": null,
   "inputWidgetPreferences": null,
   "language": "python",
   "notebookMetadata": {
    "pythonIndentUnit": 4
   },
   "notebookName": "Atividade1_Pyspark",
   "widgets": {}
  },
  "colab": {
   "provenance": []
  },
  "kernelspec": {
   "display_name": "Python 3",
   "language": "python",
   "name": "python3"
  },
  "language_info": {
   "name": "python"
  }
 },
 "nbformat": 4,
 "nbformat_minor": 0
}
